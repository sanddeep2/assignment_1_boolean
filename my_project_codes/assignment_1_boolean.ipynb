{
 "cells": [
  {
   "cell_type": "code",
   "execution_count": 29,
   "id": "c378ef39",
   "metadata": {},
   "outputs": [
    {
     "name": "stdout",
     "output_type": "stream",
     "text": [
      "a is of: <class 'bool'>\n",
      "ID of a is 140732539131728\n"
     ]
    }
   ],
   "source": [
    "# Q. Declare a boolean value and store it in a variable.\n",
    "# Check the type and print the id of the same.\n",
    "\n",
    "a= True\n",
    "\n",
    "print(\"a is of:\",type(a))\n",
    "\n",
    "print(\"ID of a is\", id(a))\n"
   ]
  },
  {
   "cell_type": "code",
   "execution_count": 28,
   "id": "4f29d2e9",
   "metadata": {},
   "outputs": [
    {
     "name": "stdout",
     "output_type": "stream",
     "text": [
      "ID of a is :  140732539420688\n",
      "ID of b is :  140732539420688\n",
      "Is a and b are same :  True\n"
     ]
    }
   ],
   "source": [
    "# Q. Take one boolean value between 0 - 256.\n",
    "# Assign it to two different variables.\n",
    "# Check the id of both the variables. It should come the same. Check why?\n",
    "\n",
    "a=200\n",
    "b=200\n",
    "\n",
    "print(\"ID of a is : \", id(a))\n",
    "print(\"ID of b is : \", id(b))\n",
    "print(\"Is a and b are same : \", a is b)\n"
   ]
  },
  {
   "cell_type": "code",
   "execution_count": 27,
   "id": "27594a94",
   "metadata": {},
   "outputs": [
    {
     "name": "stdout",
     "output_type": "stream",
     "text": [
      "sum of both values is :  52\n",
      "difference between them is :  48\n",
      "product of both is :  100\n",
      "value after dividing first value with second value is :  25.0\n",
      "remainder after dividing first value with second value is :  0\n",
      "quotient after dividing first value with second value is :  25\n",
      "result of first value to the power of second value is :  2500\n"
     ]
    }
   ],
   "source": [
    "# Q. Arithmetic Operations on boolean data\n",
    "# Take two different boolean values.\n",
    "# Store them in two different variables.\n",
    "# Do below operations on them:-\n",
    "#  Find sum of both values\n",
    "#  Find difference between them\n",
    "#  Find the product of both.\n",
    "#  Find value after dividing first value with second value\n",
    "#  Find the remainder after dividing first value with second value\n",
    "#  Find the quotient after dividing first value with second value\n",
    "#  Find the result of first value to the power of second value.\n",
    "\n",
    "a=50\n",
    "b=2\n",
    "print(\"sum of both values is : \", a+b)\n",
    "print(\"difference between them is : \", a-b)\n",
    "print(\"product of both is : \", a*b)\n",
    "print(\"value after dividing first value with second value is : \", a/b)\n",
    "print(\"remainder after dividing first value with second value is : \", a%b)\n",
    "print(\"quotient after dividing first value with second value is : \", a//b)\n",
    "print(\"result of first value to the power of second value is : \", a**b)"
   ]
  },
  {
   "cell_type": "code",
   "execution_count": 26,
   "id": "27625474",
   "metadata": {},
   "outputs": [
    {
     "name": "stdout",
     "output_type": "stream",
     "text": [
      "False\n",
      "True\n",
      "False\n",
      "True\n"
     ]
    }
   ],
   "source": [
    "# Q. Comparison Operators on boolean values\n",
    "# Take two different boolean values.\n",
    "# Store them in two different variables.\n",
    "# Do below operations on them:-\n",
    "#  Compare these two values with below operator:-\n",
    "#  Greater than, '>'\n",
    "#  less than, '<'\n",
    "#  Greater than or equal to, '>='\n",
    "#  Less than or equal to, '<='\n",
    "# Observe their output(return type should be boolean)\n",
    "\n",
    "a=20\n",
    "b=30\n",
    "print(a>b)\n",
    "print(a<b)\n",
    "print(a>=b)\n",
    "print(a<=b)\n",
    "\n"
   ]
  },
  {
   "cell_type": "code",
   "execution_count": 25,
   "id": "17364d6c",
   "metadata": {},
   "outputs": [
    {
     "name": "stdout",
     "output_type": "stream",
     "text": [
      "False\n",
      "True\n"
     ]
    }
   ],
   "source": [
    "# Q. Equality Operator\n",
    "# Take two different boolean values.\n",
    "# Store them in two different variables.\n",
    "# Equate them using equality operators (==, !=)\n",
    "# Observe the output(return type should be boolean)\n",
    "\n",
    "\n",
    "a= True\n",
    "b= False\n",
    "print(a==b)\n",
    "print(a!=b)\n",
    "\n"
   ]
  },
  {
   "cell_type": "code",
   "execution_count": 30,
   "id": "04ac247e",
   "metadata": {},
   "outputs": [
    {
     "name": "stdout",
     "output_type": "stream",
     "text": [
      "True\n",
      "False\n",
      "False\n",
      "False\n",
      "True\n",
      "True\n",
      "True\n",
      "False\n",
      "False\n",
      "True\n"
     ]
    }
   ],
   "source": [
    "# Q. Logical operators\n",
    "# Observe the output of below code\n",
    "# Cross check the output manually\n",
    "\n",
    "print(True and True)     #True\n",
    "print(False and True)    #False\n",
    "print(True and False)    #False\n",
    "print(False and False)   #False\n",
    "print(True or True)      #True\n",
    "print(False or True)     #True\n",
    "print(True or False)     #True\n",
    "print(False or False)    #False\n",
    "print(not True)          #False\n",
    "print(not False)         #True"
   ]
  },
  {
   "cell_type": "code",
   "execution_count": 34,
   "id": "39f69a51",
   "metadata": {},
   "outputs": [
    {
     "name": "stdout",
     "output_type": "stream",
     "text": [
      "True\n",
      "True\n",
      "True\n",
      "-2\n",
      "4\n",
      "0\n"
     ]
    }
   ],
   "source": [
    "# Q. Bitwise Operators\n",
    "# Do below operations on the values provided below:-\n",
    "#  Bitwise and(&) --------------> True, True -------> Output is True\n",
    "#  Bitwise or(|) --------------> True, False -------> Output is True\n",
    "#  Bitwise(^) --------------> True, False -------> Output is True\n",
    "#  Bitwise negation(~) ---------> True -------> Output is -2\n",
    "#  Bitwise left shift ---------> True,2 -------> Output is 4\n",
    "#  Bitwise right shift ---------> True,2 -------> Output is 0\n",
    "# Cross check the output manually\n",
    "\n",
    "print(True & True)\n",
    "print(True |False)\n",
    "print(False ^ True)\n",
    "print(~True)\n",
    "print(True << 2)\n",
    "print(True >> 2)\n"
   ]
  },
  {
   "cell_type": "code",
   "execution_count": 35,
   "id": "f62c1d6c",
   "metadata": {},
   "outputs": [
    {
     "name": "stdout",
     "output_type": "stream",
     "text": [
      "True\n",
      "False\n",
      "True\n",
      "False\n"
     ]
    }
   ],
   "source": [
    "# Q. What is the output of expression inside the print statement. Cross\n",
    "# check before running the program.\n",
    "# a = True\n",
    "# b = True\n",
    "# print(a is b) #True or False? # True\n",
    "# print(a is not b) #True or False? #False\n",
    "# a = False\n",
    "# b = False\n",
    "# print(a is b) #True or False? #True\n",
    "# print(a is not b) #True or False? #False\n",
    "\n",
    "\n",
    "a = True\n",
    "b = True\n",
    "print(a is b) # True\n",
    "print(a is not b)  #False\n",
    "a = False\n",
    "b = False\n",
    "print(a is b) #True\n",
    "print(a is not b) # False"
   ]
  },
  {
   "cell_type": "code",
   "execution_count": 36,
   "id": "dcc91a86",
   "metadata": {},
   "outputs": [
    {
     "name": "stdout",
     "output_type": "stream",
     "text": [
      "True\n",
      "True\n",
      "True\n",
      "True\n",
      "True\n"
     ]
    }
   ],
   "source": [
    "# Q. Membership operation\n",
    "# in, not in are two membership operators and it returns boolean value\n",
    "# print(True in [10,10.20,10+20j,'Python', True])\n",
    "# print(False in (10,10.20,10+20j,'Python', False))\n",
    "# print(True in {1,2,3, True})\n",
    "# print(True in {True:100, False:200, True:300})\n",
    "# print(False in {True:100, False:200, True:300})\n",
    "\n",
    "print(True in [10,10.20,10+20j,'Python', True])\n",
    "print(False in (10,10.20,10+20j,'Python', False))\n",
    "print(True in {1,2,3, True})\n",
    "print(True in {True:100, False:200, True:300})\n",
    "print(False in {True:100, False:200, True:300})\n",
    "\n"
   ]
  },
  {
   "cell_type": "code",
   "execution_count": null,
   "id": "830b3871",
   "metadata": {},
   "outputs": [],
   "source": []
  }
 ],
 "metadata": {
  "kernelspec": {
   "display_name": "Python 3",
   "language": "python",
   "name": "python3"
  },
  "language_info": {
   "codemirror_mode": {
    "name": "ipython",
    "version": 3
   },
   "file_extension": ".py",
   "mimetype": "text/x-python",
   "name": "python",
   "nbconvert_exporter": "python",
   "pygments_lexer": "ipython3",
   "version": "3.8.8"
  }
 },
 "nbformat": 4,
 "nbformat_minor": 5
}
